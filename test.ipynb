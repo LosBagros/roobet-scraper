{
 "cells": [
  {
   "cell_type": "code",
   "execution_count": 5,
   "metadata": {},
   "outputs": [],
   "source": [
    "import json"
   ]
  },
  {
   "cell_type": "code",
   "execution_count": 10,
   "metadata": {},
   "outputs": [],
   "source": [
    "import mysql.connector\n",
    "\n",
    "\n",
    "mydb = mysql.connector.connect(\n",
    "  host=\"localhost\",\n",
    "  user=\"root\",\n",
    "  password=\"\",\n",
    "  database=\"roobet\"\n",
    ")"
   ]
  },
  {
   "cell_type": "code",
   "execution_count": 16,
   "metadata": {},
   "outputs": [],
   "source": [
    "mycursor = mydb.cursor()\n",
    "\n",
    "sql = \"INSERT INTO totalbets (allTimeNumBets) VALUES (%s)\"\n",
    "mycursor.execute(sql, [allTimeNumBets])\n",
    "                            \n",
    "mydb.commit()"
   ]
  },
  {
   "cell_type": "code",
   "execution_count": 8,
   "metadata": {},
   "outputs": [
    {
     "name": "stdout",
     "output_type": "stream",
     "text": [
      "{'_id': '6494cbfcf78b58323140637b', 'betAmount': 40, 'balanceType': 'ltc', 'currency': 'usd', 'closedOut': True, 'closeoutComplete': True, 'paidOut': True, 'ranHooks': True, 'attempts': 1, 'betId': 'hacksaw-6494cb9ff78b5832314024bb', 'gameName': 'hacksaw', 'gameNameDisplay': 'Wanted Dead or a Wild', 'transactionIds': [], 'incognito': True, 'thirdParty': 'hacksaw', 'category': 'slots', 'gameIdentifier': 'hacksaw:1067', 'payoutValue': 78.06, 'mult': 1.9515, 'profit': 38.06, 'twoFactor': True, 'user': None, 'gameSessionId': '6494cb9ff78b5832314024bb', 'userId': 'b5ed2beb-598e-41e9-bb75-c1f534a60c37', 'won': True, 'timestamp': '2023-06-22T22:32:28.998Z', 'closeoutTimestamp': '2023-06-22T22:32:28.202Z', 'createdAt': '2023-06-22T22:32:28.204Z', 'updatedAt': '2023-06-22T22:32:28.204Z', '__v': 0, 'addedAt': '2023-06-22T22:32:28.210Z'}\n"
     ]
    }
   ],
   "source": [
    "new_bet = '{\"_id\":\"6494cbfcf78b58323140637b\",\"betAmount\":40,\"balanceType\":\"ltc\",\"currency\":\"usd\",\"closedOut\":true,\"closeoutComplete\":true,\"paidOut\":true,\"ranHooks\":true,\"attempts\":1,\"betId\":\"hacksaw-6494cb9ff78b5832314024bb\",\"gameName\":\"hacksaw\",\"gameNameDisplay\":\"Wanted Dead or a Wild\",\"transactionIds\":[],\"incognito\":true,\"thirdParty\":\"hacksaw\",\"category\":\"slots\",\"gameIdentifier\":\"hacksaw:1067\",\"payoutValue\":78.06,\"mult\":1.9515,\"profit\":38.06,\"twoFactor\":true,\"user\":null,\"gameSessionId\":\"6494cb9ff78b5832314024bb\",\"userId\":\"b5ed2beb-598e-41e9-bb75-c1f534a60c37\",\"won\":true,\"timestamp\":\"2023-06-22T22:32:28.998Z\",\"closeoutTimestamp\":\"2023-06-22T22:32:28.202Z\",\"createdAt\":\"2023-06-22T22:32:28.204Z\",\"updatedAt\":\"2023-06-22T22:32:28.204Z\",\"__v\":0,\"addedAt\":\"2023-06-22T22:32:28.210Z\"}'\n",
    "data = json.loads(new_bet)\n",
    "print(data)"
   ]
  },
  {
   "cell_type": "code",
   "execution_count": 23,
   "metadata": {},
   "outputs": [
    {
     "name": "stdout",
     "output_type": "stream",
     "text": [
      "b5ed2beb-598e-41e9-bb75-c1f534a60c37\n"
     ]
    }
   ],
   "source": [
    "print(data['userId'])"
   ]
  },
  {
   "cell_type": "code",
   "execution_count": 22,
   "metadata": {},
   "outputs": [],
   "source": [
    "mycursor = mydb.cursor()\n",
    "\n",
    "id = data['userId']\n",
    "if data['user'] is not None:\n",
    "    name = data['user']['name']\n",
    "else:\n",
    "    name = None\n",
    "twoFactor = data['twoFactor']\n",
    "\n",
    "select_query = \"SELECT * FROM users WHERE id = %s\"\n",
    "mycursor.execute(select_query, [id])\n",
    "existing_user = mycursor.fetchone()\n",
    "\n",
    "if existing_user:\n",
    "    if name:\n",
    "        update_query = \"UPDATE users SET name = %s WHERE id = %s\"\n",
    "        mycursor.execute(update_query, (name, id))\n",
    "    if twoFactor:\n",
    "        update_query = \"UPDATE users SET twoFactor = %s WHERE id = %s\"\n",
    "        mycursor.execute(update_query, (twoFactor, id))\n",
    "else:\n",
    "    if name:\n",
    "        insert_query = \"INSERT INTO users (id, name, twoFactor) VALUES (%s, %s, %s)\"\n",
    "        mycursor.execute(insert_query, (id, name, twoFactor))\n",
    "    else:\n",
    "        insert_query = \"INSERT INTO users (id, twoFactor) VALUES (%s, %s)\"\n",
    "        mycursor.execute(insert_query, (id, twoFactor))\n",
    "\n",
    "mydb.commit()\n"
   ]
  },
  {
   "cell_type": "code",
   "execution_count": null,
   "metadata": {},
   "outputs": [],
   "source": [
    "mycursor = mydb.cursor()\n",
    "\n"
   ]
  }
 ],
 "metadata": {
  "kernelspec": {
   "display_name": "venv",
   "language": "python",
   "name": "python3"
  },
  "language_info": {
   "codemirror_mode": {
    "name": "ipython",
    "version": 3
   },
   "file_extension": ".py",
   "mimetype": "text/x-python",
   "name": "python",
   "nbconvert_exporter": "python",
   "pygments_lexer": "ipython3",
   "version": "3.11.3"
  },
  "orig_nbformat": 4
 },
 "nbformat": 4,
 "nbformat_minor": 2
}
