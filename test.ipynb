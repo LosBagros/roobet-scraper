{
 "cells": [
  {
   "cell_type": "code",
   "execution_count": 6,
   "metadata": {},
   "outputs": [
    {
     "name": "stdout",
     "output_type": "stream",
     "text": [
      "{'globalStats': {'allTimeNumBets': 3505004397}, 'banner': '', 'bannerLink': '', 'bannerLinkTitle': '', 'disabledApp': False}\n"
     ]
    }
   ],
   "source": [
    "message = '{\"globalStats\":{\"allTimeNumBets\":3505004397},\"banner\":\"\",\"bannerLink\":\"\",\"bannerLinkTitle\":\"\",\"disabledApp\":false}'\n",
    "data = json.loads(message)\n",
    "print(data)"
   ]
  },
  {
   "cell_type": "code",
   "execution_count": 11,
   "metadata": {},
   "outputs": [
    {
     "name": "stdout",
     "output_type": "stream",
     "text": [
      "3505004397\n"
     ]
    }
   ],
   "source": [
    "allTimeNumBets = data['globalStats']['allTimeNumBets']\n",
    "print(allTimeNumBets)"
   ]
  },
  {
   "cell_type": "code",
   "execution_count": 10,
   "metadata": {},
   "outputs": [],
   "source": [
    "import mysql.connector\n",
    "\n",
    "\n",
    "mydb = mysql.connector.connect(\n",
    "  host=\"localhost\",\n",
    "  user=\"root\",\n",
    "  password=\"\",\n",
    "  database=\"roobet\"\n",
    ")"
   ]
  },
  {
   "cell_type": "code",
   "execution_count": 16,
   "metadata": {},
   "outputs": [],
   "source": [
    "mycursor = mydb.cursor()\n",
    "\n",
    "sql = \"INSERT INTO totalbets (allTimeNumBets) VALUES (%s)\"\n",
    "mycursor.execute(sql, [allTimeNumBets])\n",
    "                            \n",
    "mydb.commit()"
   ]
  },
  {
   "cell_type": "code",
   "execution_count": 14,
   "metadata": {},
   "outputs": [
    {
     "name": "stdout",
     "output_type": "stream",
     "text": [
      "{'_id': '6494c06163d23a651f128204', 'betAmount': 60, 'balanceType': 'ltc', 'currency': 'usd', 'closedOut': True, 'closeoutComplete': True, 'paidOut': True, 'ranHooks': True, 'attempts': 1, 'betId': 'SWS-15d-988rms-176b192cbbb5b21634c49b56-q3x4omt3inocvlsv', 'gameName': 'softswiss', 'gameNameDisplay': 'VIP Diamond', 'transactionIds': ['6494c06163d23a651f1281eb'], 'incognito': False, 'thirdParty': 'softswiss', 'category': 'card', 'gameIdentifier': 'evolution:VIPDiamond', 'payoutValue': 50, 'mult': 0.8333333333333334, 'profit': -10, 'twoFactor': True, 'user': {'id': '6609d995-8b7a-43fd-b491-8e54fd1fdc36', 'name': 'moneymachine19', '_id': '6494c06163d23a651f128205'}, 'gameSessionId': '15d-988rms-176b192cbbb5b21634c49b56-q3x4omt3inocvlsv', 'userId': '6609d995-8b7a-43fd-b491-8e54fd1fdc36', 'won': True, 'timestamp': '2023-06-22T21:42:59.946Z', 'closeoutTimestamp': '2023-06-22T21:42:57.766Z', 'createdAt': '2023-06-22T21:42:57.769Z', 'updatedAt': '2023-06-22T21:42:57.769Z', '__v': 0, 'addedAt': '2023-06-22T21:42:57.775Z'}\n"
     ]
    }
   ],
   "source": [
    "new_bet = '{\"_id\":\"6494c06163d23a651f128204\",\"betAmount\":60,\"balanceType\":\"ltc\",\"currency\":\"usd\",\"closedOut\":true,\"closeoutComplete\":true,\"paidOut\":true,\"ranHooks\":true,\"attempts\":1,\"betId\":\"SWS-15d-988rms-176b192cbbb5b21634c49b56-q3x4omt3inocvlsv\",\"gameName\":\"softswiss\",\"gameNameDisplay\":\"VIP Diamond\",\"transactionIds\":[\"6494c06163d23a651f1281eb\"],\"incognito\":false,\"thirdParty\":\"softswiss\",\"category\":\"card\",\"gameIdentifier\":\"evolution:VIPDiamond\",\"payoutValue\":50,\"mult\":0.8333333333333334,\"profit\":-10,\"twoFactor\":true,\"user\":{\"id\":\"6609d995-8b7a-43fd-b491-8e54fd1fdc36\",\"name\":\"moneymachine19\",\"_id\":\"6494c06163d23a651f128205\"},\"gameSessionId\":\"15d-988rms-176b192cbbb5b21634c49b56-q3x4omt3inocvlsv\",\"userId\":\"6609d995-8b7a-43fd-b491-8e54fd1fdc36\",\"won\":true,\"timestamp\":\"2023-06-22T21:42:59.946Z\",\"closeoutTimestamp\":\"2023-06-22T21:42:57.766Z\",\"createdAt\":\"2023-06-22T21:42:57.769Z\",\"updatedAt\":\"2023-06-22T21:42:57.769Z\",\"__v\":0,\"addedAt\":\"2023-06-22T21:42:57.775Z\"}'\n",
    "data = json.loads(new_bet)\n",
    "print(data)"
   ]
  },
  {
   "cell_type": "code",
   "execution_count": 20,
   "metadata": {},
   "outputs": [
    {
     "name": "stdout",
     "output_type": "stream",
     "text": [
      "6609d995-8b7a-43fd-b491-8e54fd1fdc36\n",
      "moneymachine19\n",
      "True\n",
      "name exists\n"
     ]
    }
   ],
   "source": [
    "mycursor = mydb.cursor()\n",
    "\n",
    "id = data['userId']\n",
    "name = data['user']['name'] if 'user' in data else null\n",
    "twoFactor = data['twoFactor']\n",
    "\n",
    "select_query = \"SELECT * FROM users WHERE id = %s\"\n",
    "mycursor.execute(select_query, [id])\n",
    "existing_user = mycursor.fetchone()\n",
    "\n",
    "if existing_user:\n",
    "    if name:\n",
    "        update_query = \"UPDATE users SET name = %s WHERE id = %s\"\n",
    "        mycursor.execute(update_query, (name, id))\n",
    "    if twoFactor:\n",
    "        update_query = \"UPDATE users SET twoFactor = %s WHERE id = %s\"\n",
    "        mycursor.execute(update_query, (twoFactor, id))\n",
    "else:\n",
    "    if name:\n",
    "        insert_query = \"INSERT INTO users (id, name, twoFactor) VALUES (%s, %s, %s)\"\n",
    "        mycursor.execute(insert_query, (id, name, twoFactor))\n",
    "    else:\n",
    "        insert_query = \"INSERT INTO users (id, twoFactor) VALUES (%s, %s)\"\n",
    "        mycursor.execute(insert_query, (id, twoFactor))\n",
    "\n",
    "mydb.commit()\n"
   ]
  }
 ],
 "metadata": {
  "kernelspec": {
   "display_name": "venv",
   "language": "python",
   "name": "python3"
  },
  "language_info": {
   "codemirror_mode": {
    "name": "ipython",
    "version": 3
   },
   "file_extension": ".py",
   "mimetype": "text/x-python",
   "name": "python",
   "nbconvert_exporter": "python",
   "pygments_lexer": "ipython3",
   "version": "3.11.3"
  },
  "orig_nbformat": 4
 },
 "nbformat": 4,
 "nbformat_minor": 2
}
